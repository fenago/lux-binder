{
 "cells": [
  {
   "cell_type": "code",
   "execution_count": null,
   "metadata": {},
   "outputs": [],
   "source": [
    "import lux\n",
    "import pandas as pd"
   ]
  },
  {
   "cell_type": "markdown",
   "metadata": {},
   "source": [
    "Now that we've covered the basics of Lux, you can explore a dataset that you're interested in with Lux. We've provided some starter datasets as possible starting points. Pick any of the following dataset to explore:"
   ]
  },
  {
   "cell_type": "markdown",
   "metadata": {},
   "source": [
    "[Happy Planet Index (HPI)](http://happyplanetindex.org/): Dataset with 140 records of countries-level data on  sustainability and well-being.\n",
    "```python\n",
    "df = pd.read_csv(\"https://raw.githubusercontent.com/lux-org/lux-datasets/master/data/hpi_full.csv\")\n",
    "```\n",
    "\n",
    "[COVID-19 Stringency Index](https://ourworldindata.org/grapher/covid-stringency-index): Dataset with 78901 daily records of how stringent a country's COVID intervention strategy is. The stringency index is number from 0-100, with 100 being the highest level of responses (i.e., enacting measures, such as travel bans, stay-at-home orders, school closure, etc.).\n",
    "    \n",
    "```python\n",
    "df = pd.read_csv(\"https://raw.githubusercontent.com/lux-org/lux-datasets/master/data/covid-stringency.csv\")\n",
    "```\n",
    "\n",
    "[Census Income](https://archive.ics.uci.edu/ml/datasets/census+income): Dataset with 32561 records of adult census information, including education, martial status, income, etc.\n",
    "    \n",
    "```python\n",
    "df = pd.read_csv(\"https://raw.githubusercontent.com/lux-org/lux-datasets/master/data/census.csv\")\n",
    "```\n",
    "[Airbnb](https://www.kaggle.com/dgomonov/new-york-city-airbnb-open-data): Dataset containing information regarding 48895 Airbnb rental listings in New York City.\n",
    "\n",
    "```python\n",
    "df = pd.read_csv(\"https://raw.githubusercontent.com/lux-org/lux-datasets/master/data/airbnb_nyc.csv\")\n",
    "```\n",
    "\n",
    "[Instacart Purchase Orders](https://www.kaggle.com/c/instacart-market-basket-analysis/data): Sample dataset of 1000 product purchase orders from Instacart.\n",
    "\n",
    "```python\n",
    "df = pd.read_csv(\"https://raw.githubusercontent.com/lux-org/lux-datasets/master/data/instacart_sample.csv\")\n",
    "```\n",
    "\n",
    "[Customer Churn](https://www.kaggle.com/blastchar/telco-customer-churn): 7043 rows of customer information at a telephone company. The dataset can be used to predict customer Churn behavior.\n",
    "    \n",
    "```python\n",
    "df = pd.read_csv(\"https://raw.githubusercontent.com/lux-org/lux-datasets/master/data/churn.csv\")\n",
    "```\n",
    "\n",
    "[Employee attrition](https://www.kaggle.com/pavansubhasht/ibm-hr-analytics-attrition-dataset): A fictional dataset of 1470 HR records of employees for studying employee attrition.\n",
    "\n",
    "```python\n",
    "df = pd.read_csv(\"https://raw.githubusercontent.com/lux-org/lux-datasets/master/data/employee.csv\")\n",
    "```\n",
    "[Spotify Songs](https://www.kaggle.com/yamaerenay/spotify-dataset-19212020-160k-tracks?select=data.csv): A dataset containing more than 160k soundtracks from Spotify and their descriptions.\n",
    "\n",
    "```python\n",
    "df = pd.read_csv(\"https://raw.githubusercontent.com/lux-org/lux-datasets/master/data/spotify.csv\")\n",
    "```"
   ]
  },
  {
   "cell_type": "code",
   "execution_count": null,
   "metadata": {},
   "outputs": [],
   "source": [
    "# Start exploring your data with Lux!\n",
    "\n",
    "\n",
    "\n",
    "\n",
    "\n",
    "\n"
   ]
  },
  {
   "cell_type": "markdown",
   "metadata": {},
   "source": [
    "Here are some ideas of things that you could try out: \n",
    "- printing and visualizing your dataframe\n",
    "- cleaning and transforming your dataframe with Pandas \n",
    "- inspecting recommendations provided by Lux\n",
    "- steering recommendations by setting your analysis intent for the dataframe\n",
    "- creating visualizations on-demand\n",
    "- generating and browsing through lists of visualizations \n",
    "- __Bonus:__ check out what the three buttons on the top right corner of the Lux widget does\n",
    "\n",
    "... and more!"
   ]
  },
  {
   "cell_type": "markdown",
   "metadata": {},
   "source": [
    "### Conclusion\n",
    "\n",
    "We hope that this tutorial has demonstrated how Lux supports fast and easy experimentation with data through visualizations seamlessly in Jupyter notebooks. If you are interested in using Lux, we would love to hear from you. Any feedback, suggestions, and contributions for improving Lux are welcome. Please help us improve Lux and these tutorials by filling out this quick survey [here](tinyurl.com/lux-rc20survey).\n",
    "\n",
    "Here are some additional resources as next-steps to continue exploring:\n",
    "\n",
    "- Visit [ReadTheDoc](https://lux-api.readthedocs.io/en/latest/) for more detailed documentation.\n",
    "- Check out this longer [notebook tutorial series](https://github.com/lux-org/lux-binder/tree/master/tutorial) on how to use Lux.\n",
    "- Join the [Lux Slack channel](http://lux-project.slack.com/) for support and discussion.\n",
    "- Report any bugs, issues, or requests through [Github Issues](https://github.com/lux-org/lux/issues). "
   ]
  }
 ],
 "metadata": {
  "kernelspec": {
   "display_name": "Python 3",
   "language": "python",
   "name": "python3"
  },
  "language_info": {
   "codemirror_mode": {
    "name": "ipython",
    "version": 3
   },
   "file_extension": ".py",
   "mimetype": "text/x-python",
   "name": "python",
   "nbconvert_exporter": "python",
   "pygments_lexer": "ipython3",
   "version": "3.9.2"
  }
 },
 "nbformat": 4,
 "nbformat_minor": 4
}
