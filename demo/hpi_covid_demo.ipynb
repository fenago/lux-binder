{
 "cells": [
  {
   "cell_type": "markdown",
   "metadata": {},
   "source": [
    "The goal of this example is to demonstrate a realistic data science workflow that involves a complex data cleaning and transformation, along with exploratory data analysis with Lux."
   ]
  },
  {
   "cell_type": "code",
   "execution_count": null,
   "metadata": {},
   "outputs": [],
   "source": [
    "import lux\n",
    "import pandas as pd"
   ]
  },
  {
   "cell_type": "markdown",
   "metadata": {},
   "source": [
    "We first load in the [Happy Planet Index (HPI)](http://happyplanetindex.org/) dataset, which contains country-level data on sustainability and well-being"
   ]
  },
  {
   "cell_type": "code",
   "execution_count": null,
   "metadata": {},
   "outputs": [],
   "source": [
    "HPI = pd.read_csv(\"https://github.com/lux-org/lux-datasets/blob/master/data/hpi_full.csv?raw=True\")\n",
    "# We add an additional feature column, describing whether the country is one of the G10 nations\n",
    "HPI[\"G10\"]  = HPI[\"Country\"].isin([\"Belgium\",\"Canada\",\"France\",\"Germany\",\"Italy\",\"Japan\",\"Netherlands\",\"United Kingdom\",\"Switzerland\",\"Sweden\",\"United States of America\"])"
   ]
  },
  {
   "cell_type": "markdown",
   "metadata": {},
   "source": [
    "We take a quick look at the HPI dataset: "
   ]
  },
  {
   "cell_type": "code",
   "execution_count": null,
   "metadata": {},
   "outputs": [],
   "source": [
    "HPI"
   ]
  },
  {
   "cell_type": "markdown",
   "metadata": {},
   "source": [
    "We drop the Inequality Adjusted measures since they are obviously correlated with each other, also dropping HPI Rank and only keeping Happy Planet Index."
   ]
  },
  {
   "cell_type": "code",
   "execution_count": null,
   "metadata": {},
   "outputs": [],
   "source": [
    "HPI = HPI[HPI.columns.drop(list(HPI.filter(regex='IneqAdj'))+[\"HPIRank\"])]\n",
    "HPI"
   ]
  },
  {
   "cell_type": "markdown",
   "metadata": {},
   "source": [
    "Now after dropping these columns, the correlations are a bit more realistic."
   ]
  },
  {
   "cell_type": "markdown",
   "metadata": {},
   "source": [
    "The `Country` column needs to be assigned to a code that is easier to work with later on. So we load in [countries dataset](https://github.com/mledoze/countries) that contains the ISO-3 country code and information such as currency, language, and geography."
   ]
  },
  {
   "cell_type": "code",
   "execution_count": null,
   "metadata": {},
   "outputs": [],
   "source": [
    "countries = pd.read_csv(\"https://github.com/lux-org/lux-datasets/blob/master/data/countries.csv?raw=True\")\n",
    "countries[\"Country\"]=countries[\"name\"].apply(lambda x:x.split(\",\")[0])\n",
    "countries.loc[countries[\"Country\"]=='United States',\"Country\"] = 'United States of America'"
   ]
  },
  {
   "cell_type": "code",
   "execution_count": null,
   "metadata": {},
   "outputs": [],
   "source": [
    "countries"
   ]
  },
  {
   "cell_type": "code",
   "execution_count": null,
   "metadata": {},
   "outputs": [],
   "source": [
    "# The countries dataset has some additional features column that we can add in\n",
    "countries[\"landlocked\"] = countries[\"landlocked\"].fillna(\"False\").replace(1,\"True\")\n",
    "countries[\"NumOfficialLanguages\"]=countries.languages.str.count(\",\")+1\n",
    "countries[\"NumBorderingCountries\"]=countries.borders.str.count(\",\")+1\n",
    "countries[\"NumBorderingCountries\"]=countries[\"NumBorderingCountries\"].fillna(0)\n",
    "countries = countries[['Country','cca3', 'landlocked', \"NumOfficialLanguages\", \"NumBorderingCountries\",'area']]"
   ]
  },
  {
   "cell_type": "code",
   "execution_count": null,
   "metadata": {},
   "outputs": [],
   "source": [
    "# Combining the HPI information to get ISO-3 code\n",
    "df = HPI.merge(countries)\n",
    "df = df.rename(index=str, columns={\"SubRegion\":\"Region\",\"subregion\":\"SubRegion\"})\n",
    "df[\"Region\"] = df.Region.replace(\"Middle East and North Africa\",\"Middle East\")\n",
    "df.area = df.area.astype(int)"
   ]
  },
  {
   "cell_type": "code",
   "execution_count": null,
   "metadata": {},
   "outputs": [],
   "source": [
    "# Ensure well-formatted country names based on: https://github.com/deactivated/python-iso3166/blob/master/iso3166/__init__.py\n",
    "df.loc[df.Country==\"Russia\",\"Country\"]=\"Russian Federation\"\n",
    "df.loc[df[\"Country\"]==\"Czech Republic\",\"Country\"]=\"Czechia\"\n",
    "df.loc[df.Country==\"DR Congo\",\"Country\"]=\"Congo, Democratic Republic of the\"#not working?\n",
    "df.loc[df.Country==\"Bolivia\",\"Country\"]=\"Bolivia, Plurinational State of\"\n",
    "df.loc[df[\"Country\"]==\"Cote d'Ivoire\",\"Country\"]=\"Côte d'Ivoire\""
   ]
  },
  {
   "cell_type": "markdown",
   "metadata": {},
   "source": [
    "After all the data cleaning, we print out the combined dataframe to look at the visualizations and patterns in the dataset. "
   ]
  },
  {
   "cell_type": "code",
   "execution_count": null,
   "metadata": {},
   "outputs": [],
   "source": [
    "df"
   ]
  },
  {
   "cell_type": "markdown",
   "metadata": {},
   "source": [
    "By inspecting the `Correlation` tab, we learn that there is a negative correlation between `AvrgLifeExpectancy` and `Inequality`. In other words, countries with higher levels of inequality also have a lower average life expectancy. We can also look at other tabs, which show the Distribution of quantitative attributes and the Occurrence of categorical attributes."
   ]
  },
  {
   "cell_type": "markdown",
   "metadata": {},
   "source": [
    "Now, let's investigate whether any country-level characteristics explain the observed negative correlation between inequality and life expectancy.\n",
    "We can do this by specifying our analysis intent to Lux via `df.intent`:"
   ]
  },
  {
   "cell_type": "code",
   "execution_count": null,
   "metadata": {},
   "outputs": [],
   "source": [
    "df.intent = [\"Inequality\",\"AvrgLifeExpectancy\"]"
   ]
  },
  {
   "cell_type": "code",
   "execution_count": null,
   "metadata": {},
   "outputs": [],
   "source": [
    "df"
   ]
  },
  {
   "cell_type": "markdown",
   "metadata": {},
   "source": [
    "By looking at the colored scatterplots in the `Enhance` tab, we find that most G10 industrialized countries are on the upper left quadrant on the scatterplot (low inequality, high life expectancy). In the breakdown by Region, we observe that countries in Sub-Saharan Africa (yellow points) tend to be on the bottom right, with lower life expectancy and higher inequality."
   ]
  },
  {
   "cell_type": "markdown",
   "metadata": {},
   "source": [
    "We are now interested in how these country-level metrics related to a country's COVID intervention strategy and response. We download the [COVID pandemic policy dataset](https://ourworldindata.org/grapher/covid-stringency-index) dataset."
   ]
  },
  {
   "cell_type": "code",
   "execution_count": null,
   "metadata": {},
   "outputs": [],
   "source": [
    "covid = pd.read_csv(\"https://github.com/lux-org/lux-datasets/blob/master/data/covid-stringency-index.csv?raw=True\")\n",
    "covid = covid.rename(columns={\"stringency_index\":\"stringency\"})\n",
    "covid['Day'] = pd.to_datetime(covid['Day'], format=\"%Y-%m-%d\")"
   ]
  },
  {
   "cell_type": "markdown",
   "metadata": {},
   "source": [
    "The COVID dataset contains a column `stringency`, which is a number from 0-100, with 100 being the highest level of responses (i.e., enacting measures, such as travel bans, stay-at-home orders, school closure, etc.). "
   ]
  },
  {
   "cell_type": "markdown",
   "metadata": {},
   "source": [
    "When we print the dataframe, we see that the overall distribution of recrods is at the medium to high levels, around with the distribution peaking at a stringency of 60-80. From the `Temporal` tab, we see that this record spans from stringency tracked daily from January 2020 to March 2021. "
   ]
  },
  {
   "cell_type": "code",
   "execution_count": null,
   "metadata": {},
   "outputs": [],
   "source": [
    "covid"
   ]
  },
  {
   "cell_type": "markdown",
   "metadata": {},
   "source": [
    "We are only interested in the records on March 11,2020, which is the first day WHO announce COVID as pandemic. By filtering to the records only on this day, the stringency score becomes a proxy that measures the strictness of the country's **early** intervention efforts."
   ]
  },
  {
   "cell_type": "code",
   "execution_count": null,
   "metadata": {},
   "outputs": [],
   "source": [
    "covid = covid[covid[\"Day\"]==\"2020-03-11\"]"
   ]
  },
  {
   "cell_type": "code",
   "execution_count": null,
   "metadata": {},
   "outputs": [],
   "source": [
    "covid[\"stringency\"]"
   ]
  },
  {
   "cell_type": "markdown",
   "metadata": {},
   "source": [
    "Somewhat interestingly, we see that during this early date, the stringency is heavily right-skewed, suggesting that most countries didn't enact strict measures in the early days of the pandemic."
   ]
  },
  {
   "cell_type": "markdown",
   "metadata": {},
   "source": [
    "We now join the countries dataframe `df` with the `covid` dataframe: "
   ]
  },
  {
   "cell_type": "code",
   "execution_count": null,
   "metadata": {},
   "outputs": [],
   "source": [
    "result = covid.merge(df,left_on=[\"Entity\",\"Code\"],right_on=[\"Country\",\"cca3\"])"
   ]
  },
  {
   "cell_type": "code",
   "execution_count": null,
   "metadata": {},
   "outputs": [],
   "source": [
    "result.intent = [\"stringency\"]\n",
    "result"
   ]
  },
  {
   "cell_type": "markdown",
   "metadata": {},
   "source": [
    "When we set the intent as `stringency`, we see that China and Italy have the strictest measures (corresponding to dark blue on the geo map, among a sea of light yellow and green)."
   ]
  },
  {
   "cell_type": "markdown",
   "metadata": {},
   "source": [
    "We want to discern these country-level differences further, so we divide the stringency index into a categorical variable `stringency_level`. We use [pd.qcut](https://pandas.pydata.org/docs/reference/api/pandas.qcut.html) to ensure that there is equal number records in the `Low` and `High` bins."
   ]
  },
  {
   "cell_type": "code",
   "execution_count": null,
   "metadata": {},
   "outputs": [],
   "source": [
    "result[\"stringency_level\"] = pd.qcut(result[\"stringency\"],2,labels=[\"Low\",\"High\"])\n",
    "result = result.drop(columns=[\"stringency\"])"
   ]
  },
  {
   "cell_type": "markdown",
   "metadata": {},
   "source": [
    "With the modified dataframe, Alice revisits the negative correlation she observed previously by setting the intent as average life expectancy and inequality again. The result is similar to what we saw before, with one visualization showing the breakdown by `stringency_level`."
   ]
  },
  {
   "cell_type": "code",
   "execution_count": null,
   "metadata": {
    "scrolled": false
   },
   "outputs": [],
   "source": [
    "result.intent = [\"Inequality\",\"AvrgLifeExpectancy\"]\n",
    "result"
   ]
  },
  {
   "cell_type": "markdown",
   "metadata": {},
   "source": [
    "We see a strong separation showing how stricter countries (blue) corresponded to countries with higher life expectancy and lower levels of inequality. This visualization indicates that these countries could possibly have a more well-developed public health infrastructure that promoted the early pandemic response. However, we observe three outliers that seem to defy this trend. "
   ]
  },
  {
   "cell_type": "markdown",
   "metadata": {},
   "source": [
    "<img src=\"https://github.com/lux-org/lux-resources/blob/master/doc_img/hpi-covid-outlier.png?raw=True\" width=\"250\"></img>"
   ]
  },
  {
   "cell_type": "markdown",
   "metadata": {},
   "source": [
    "When we filter to these dataframe records, we find that these countries correspond to [Afghanistan](https://www.who.int/news-room/feature-stories/detail/afghanistan-who-mission-reviews-covid-19-response), [Pakistan](https://www.who.int/news-room/feature-stories/detail/covid-19-in-pakistan-who-fighting-tirelessly-against-the-odds), and [Rwanda](https://www.npr.org/sections/goatsandsoda/2020/07/15/889802561/a-covid-19-success-story-in-rwanda-free-testing-robot-caregivers)—countries that were praised for their early pandemic response despite limited resources."
   ]
  },
  {
   "cell_type": "code",
   "execution_count": null,
   "metadata": {},
   "outputs": [],
   "source": [
    "result[(result[\"Inequality\"]>0.35)&(result[\"stringency_level\"]==\"High\")]"
   ]
  },
  {
   "cell_type": "markdown",
   "metadata": {},
   "source": [
    "To download this visualization insight and share with others, we can click on the visualization in the Lux view above and the button."
   ]
  },
  {
   "cell_type": "markdown",
   "metadata": {},
   "source": [
    "<img src=\"https://github.com/lux-org/lux-resources/blob/master/doc_img/hpi-covid-export.png?raw=True\" width=\"1000\"></img>"
   ]
  },
  {
   "cell_type": "code",
   "execution_count": null,
   "metadata": {},
   "outputs": [],
   "source": [
    "result"
   ]
  },
  {
   "cell_type": "markdown",
   "metadata": {},
   "source": [
    "This exports the visualization from the widget to a `Vis` object. We can access the exported `Vis` object via the `exported` property and print it as code."
   ]
  },
  {
   "cell_type": "code",
   "execution_count": null,
   "metadata": {},
   "outputs": [],
   "source": [
    "result.exported"
   ]
  },
  {
   "cell_type": "code",
   "execution_count": null,
   "metadata": {},
   "outputs": [],
   "source": [
    "print(result.exported[0].to_code(\"altair\"))"
   ]
  },
  {
   "cell_type": "markdown",
   "metadata": {},
   "source": [
    "We can copy-and-paste the output Altair code, tweak the plotting style before sharing this insight."
   ]
  },
  {
   "cell_type": "code",
   "execution_count": null,
   "metadata": {},
   "outputs": [],
   "source": [
    "highlight"
   ]
  },
  {
   "cell_type": "code",
   "execution_count": null,
   "metadata": {},
   "outputs": [],
   "source": [
    "import altair as alt\n",
    "\n",
    "c = \"#e7298a\"\n",
    "chart = alt.Chart(result,title=\"Check out this cool insight!\").mark_circle().encode(\n",
    "    x=alt.X('Inequality',scale=alt.Scale(domain=(0.04, 0.51)),type='quantitative', axis=alt.Axis(title='Inequality')),\n",
    "    y=alt.Y('AvrgLifeExpectancy',scale=alt.Scale(domain=(48.9, 83.6)),type='quantitative', axis=alt.Axis(title='AvrgLifeExpectancy'))\n",
    ")\n",
    "highlight = result[(result[\"Inequality\"]>0.35)&(result[\"stringency_level\"]==\"High\")]\n",
    "\n",
    "hchart = alt.Chart(highlight).mark_point(color=c,size=50,shape=\"cross\").encode(\n",
    "    x=alt.X('Inequality',scale=alt.Scale(domain=(0.04, 0.51)),type='quantitative', axis=alt.Axis(title='Inequality')),\n",
    "    y=alt.Y('AvrgLifeExpectancy',scale=alt.Scale(domain=(48.9, 83.6)),type='quantitative', axis=alt.Axis(title='AvrgLifeExpectancy')),\n",
    ")\n",
    "\n",
    "text = alt.Chart(highlight).mark_text(color=c,dx=-35,dy=0,fontWeight=800).encode(\n",
    "    x=alt.X('Inequality',scale=alt.Scale(domain=(0.04, 0.51)),type='quantitative', axis=alt.Axis(title='Inequality')),\n",
    "    y=alt.Y('AvrgLifeExpectancy',scale=alt.Scale(domain=(48.9, 83.6)),type='quantitative', axis=alt.Axis(title='AvrgLifeExpectancy')),\n",
    "    text=alt.Text('Country')\n",
    ")\n",
    "\n",
    "chart = chart.encode(color=alt.Color('stringency_level',type='nominal'))\n",
    "chart = chart.properties(width=160,height=150)\n",
    "\n",
    "(chart + hchart + text).configure_title(color=c)\n"
   ]
  }
 ],
 "metadata": {
  "kernelspec": {
   "display_name": "Python 3",
   "language": "python",
   "name": "python3"
  },
  "language_info": {
   "codemirror_mode": {
    "name": "ipython",
    "version": 3
   },
   "file_extension": ".py",
   "mimetype": "text/x-python",
   "name": "python",
   "nbconvert_exporter": "python",
   "pygments_lexer": "ipython3",
   "version": "3.9.2"
  }
 },
 "nbformat": 4,
 "nbformat_minor": 2
}
