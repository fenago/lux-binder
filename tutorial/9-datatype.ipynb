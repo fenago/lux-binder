{
 "cells": [
  {
   "cell_type": "markdown",
   "metadata": {},
   "source": [
    "In this tutorial, we will look at the different data types in Lux and how to change them. The data type that Lux detects is used to suggest different recommendations. We will be using several different datasets for this tutorial."
   ]
  },
  {
   "cell_type": "code",
   "execution_count": null,
   "metadata": {},
   "outputs": [],
   "source": [
    "import pandas as pd\n",
    "import lux"
   ]
  },
  {
   "cell_type": "code",
   "execution_count": null,
   "metadata": {},
   "outputs": [],
   "source": [
    "lux.config.default_display=\"lux\""
   ]
  },
  {
   "cell_type": "code",
   "execution_count": null,
   "metadata": {
    "scrolled": true
   },
   "outputs": [],
   "source": [
    "df = pd.read_csv(\"https://github.com/lux-org/lux-datasets/blob/master/data/college.csv?raw=true\")\n",
    "df"
   ]
  },
  {
   "cell_type": "markdown",
   "metadata": {},
   "source": [
    "To find what Lux has determined as the data type, use `df.data_type`. This is a dictionary object."
   ]
  },
  {
   "cell_type": "code",
   "execution_count": null,
   "metadata": {},
   "outputs": [],
   "source": [
    "df.data_type"
   ]
  },
  {
   "cell_type": "markdown",
   "metadata": {},
   "source": [
    "## Quantitative\n",
    "The Quantitative data type is used when there is a count or measure of a certain attribute. \n",
    "In the example above, the column `AcceptanceRate` is quantitative because it is a measure. \n",
    "Also, any aggregate such as means and medians will be categorized as quantitative. \n"
   ]
  },
  {
   "cell_type": "code",
   "execution_count": null,
   "metadata": {},
   "outputs": [],
   "source": [
    "df"
   ]
  },
  {
   "cell_type": "markdown",
   "metadata": {},
   "source": [
    "## Nominal\n",
    "\n",
    "The Nominal data type is for categorical data. For example, PredominantDegree is nominal because rather than being an explicit measure, it describes an attribute. In this case, there are three possible values: Associate, Bachelor’s, and Certificate. Lux displays these variables under the Occurrence tab as bar charts for the number of occurrences (see above."
   ]
  },
  {
   "cell_type": "code",
   "execution_count": null,
   "metadata": {
    "scrolled": true
   },
   "outputs": [],
   "source": [
    "df"
   ]
  },
  {
   "cell_type": "markdown",
   "metadata": {},
   "source": [
    "## Temporal\n",
    "\n",
    "The Temporal Data Type is used when Lux thinks based on either the format of the data passed in or the title of the column that the data in that column is time-sensitive. Again, setting intent on the temporal column, we can see line graphs that reflect the temporality of the data."
   ]
  },
  {
   "cell_type": "code",
   "execution_count": null,
   "metadata": {},
   "outputs": [],
   "source": [
    "df = pd.read_csv(\"https://github.com/lux-org/lux-datasets/blob/master/data/car.csv?raw=true\")\n",
    "df[\"Year\"] = pd.to_datetime(df[\"Year\"], format=\"%Y\")\n",
    "df"
   ]
  },
  {
   "cell_type": "markdown",
   "metadata": {},
   "source": [
    "## ID\n",
    "\n",
    "The ID data type is chosen for any column that looks like an ID and shouldn't be plotted. For example, zip code, user ID, etc. Clicking on the Warning Sign shows that Lux inferred an attribute as an ID and thus, did not plot it."
   ]
  },
  {
   "cell_type": "code",
   "execution_count": null,
   "metadata": {},
   "outputs": [],
   "source": [
    "df = pd.read_csv(\"https://github.com/lux-org/lux-datasets/blob/master/data/aug_test.csv?raw=true\")\n",
    "df"
   ]
  },
  {
   "cell_type": "markdown",
   "metadata": {},
   "source": [
    "## Changing the Inferred Data Type\n",
    "\n",
    "Sometimes, Lux incorrectly identifies the correct data. To fix this, we can use `df.set_data_type`. Here is an example:"
   ]
  },
  {
   "cell_type": "code",
   "execution_count": null,
   "metadata": {},
   "outputs": [],
   "source": [
    "df = pd.read_csv(\"https://raw.githubusercontent.com/lux-org/lux-datasets/master/data/communities.csv?raw=true\")\n",
    "df"
   ]
  },
  {
   "cell_type": "code",
   "execution_count": null,
   "metadata": {},
   "outputs": [],
   "source": [
    "df.data_type"
   ]
  },
  {
   "cell_type": "markdown",
   "metadata": {},
   "source": [
    "As you can see, the `state` column is marked as `quantitative`. Thus, the visualizations created with it reflect a `quantitative` variable."
   ]
  },
  {
   "cell_type": "code",
   "execution_count": null,
   "metadata": {},
   "outputs": [],
   "source": [
    "from lux.vis.Vis import Vis"
   ]
  },
  {
   "cell_type": "code",
   "execution_count": null,
   "metadata": {},
   "outputs": [],
   "source": [
    "Vis([\"state\"], df)"
   ]
  },
  {
   "cell_type": "markdown",
   "metadata": {},
   "source": [
    "However, it makes more sense, because the numbers are a mapping to actual states, for this column to be marked as a `nominal` column. We can fix it using the code below:"
   ]
  },
  {
   "cell_type": "code",
   "execution_count": null,
   "metadata": {},
   "outputs": [],
   "source": [
    "df.set_data_type({\"state\":\"nominal\"})"
   ]
  },
  {
   "cell_type": "code",
   "execution_count": null,
   "metadata": {},
   "outputs": [],
   "source": [
    "df.data_type"
   ]
  },
  {
   "cell_type": "markdown",
   "metadata": {},
   "source": [
    "Here, we see that the `data_type` has changed to accomodate our fix. Setting intent on this column, we see that it behaves like any other `nominal` column."
   ]
  },
  {
   "cell_type": "code",
   "execution_count": null,
   "metadata": {},
   "outputs": [],
   "source": [
    "Vis([\"state\"], df)"
   ]
  }
 ],
 "metadata": {
  "kernelspec": {
   "display_name": "lux-dev-env",
   "language": "python",
   "name": "lux-dev-env"
  },
  "language_info": {
   "codemirror_mode": {
    "name": "ipython",
    "version": 3
   },
   "file_extension": ".py",
   "mimetype": "text/x-python",
   "name": "python",
   "nbconvert_exporter": "python",
   "pygments_lexer": "ipython3",
   "version": "3.7.0"
  }
 },
 "nbformat": 4,
 "nbformat_minor": 4
}
